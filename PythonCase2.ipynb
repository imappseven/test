{
  "nbformat": 4,
  "nbformat_minor": 0,
  "metadata": {
    "colab": {
      "provenance": [],
      "authorship_tag": "ABX9TyM9tENvXBrvY77ft4a5oiiu",
      "include_colab_link": true
    },
    "kernelspec": {
      "name": "python3",
      "display_name": "Python 3"
    },
    "language_info": {
      "name": "python"
    }
  },
  "cells": [
    {
      "cell_type": "markdown",
      "metadata": {
        "id": "view-in-github",
        "colab_type": "text"
      },
      "source": [
        "<a href=\"https://colab.research.google.com/github/imappseven/test/blob/master/PythonCase2.ipynb\" target=\"_parent\"><img src=\"https://colab.research.google.com/assets/colab-badge.svg\" alt=\"Open In Colab\"/></a>"
      ]
    },
    {
      "cell_type": "code",
      "execution_count": 10,
      "metadata": {
        "id": "JSfNWe6oBRuO"
      },
      "outputs": [],
      "source": [
        "from tabulate import tabulate\n",
        "from math import sqrt"
      ]
    },
    {
      "cell_type": "code",
      "source": [
        "class Membership:\n",
        "  data = {\n",
        "      \"Alsterra\": \"Platinum\",\n",
        "      \"Aurora\": \"Gold\",\n",
        "      \"Shireen\": \"Platinum\"\n",
        "  }\n",
        "\n",
        "  def __init__(self, username):\n",
        "    self.username = username\n",
        "  \n",
        "  def show_benefit(self):\n",
        "    table = [\n",
        "        [\"Platinum\", \"15%\", \"Benefit Gold + Silver + Vacation Voucher + Cashback max. 30%\"],\n",
        "        [\"Gold\", \"10%\", \"Benefit Silver + Online Ride Voucher\"],\n",
        "        [\"Silver\", \"8%\", \"Food Voucher\"]\n",
        "    ]\n",
        "\n",
        "    headers = [\"Membership\", \"Discount\", \"Additional Benefit\"]\n",
        "    print(tabulate(table, headers))\n",
        "  \n",
        "  def show_requirement(self):\n",
        "    table = [\n",
        "        [\"Platinum\", 8, 15],\n",
        "        [\"Gold\", 6, 10],\n",
        "        [\"Silver\", 5, 7]\n",
        "    ]\n",
        "\n",
        "    headers = [\"Membership\", \"Monthly Expense (million)\", \"Monthly Income (million)\"]\n",
        "    print(tabulate(table, headers))\n",
        "  \n",
        "  def predict_membership(self, username, monthly_expense, monthly_income):\n",
        "    result_list = []\n",
        "\n",
        "    membership_parameter = [[8, 15], [6, 10], [5, 7]]\n",
        "\n",
        "    for idx, _ in enumerate(membership_parameter):\n",
        "      euc = round(sqrt((monthly_expense - membership_parameter[idx][0])**2 + (monthly_income - membership_parameter[idx][1])**2), 2)\n",
        "      result_list.append(euc)\n",
        "    \n",
        "    res_dist = {\n",
        "        \"Platinum\": result_list[0],\n",
        "        \"Gold\": result_list[1],\n",
        "        \"Silver\": result_list[2]\n",
        "    }\n",
        "\n",
        "    print(f\"Distance of user {self.username} is {res_dist}\")\n",
        "\n",
        "    for membership, distance in res_dist.items():\n",
        "      if min(result_list) == distance:\n",
        "        self.data[username] = membership\n",
        "        return membership\n",
        "  \n",
        "  def show_membership(self, username):\n",
        "    if username in self.data:\n",
        "      result = f\"User {username} has {self.data.get(username)} membership\"\n",
        "      \n",
        "      return result\n",
        "\n",
        "  def calc_price(self, username, price_list):\n",
        "    if username in self.data:\n",
        "      membership = self.data.get(username)\n",
        "\n",
        "      if membership == \"Platinum\":\n",
        "        total_price = price_list[0] - price_list[0] * 0.15\n",
        "        final_result = f\"The total shopping you have to pay is Rp{total_price}\"\n",
        "        \n",
        "        return final_result\n",
        "      \n",
        "      elif membership == \"Gold\":\n",
        "        total_price = price_list[1] - price_list[1] * 0.1\n",
        "        final_result = f\"The total shopping you have to pay is Rp{total_price}\"\n",
        "        \n",
        "        return final_result\n",
        "      \n",
        "      elif membership == \"Silver\":\n",
        "        total_price = price_list[2] - price_list[2] * 0.08\n",
        "        final_result = f\"The total shopping you have to pay is Rp{total_price}\"\n",
        "        \n",
        "        return final_result\n",
        "      \n",
        "      else:\n",
        "        return \"You enter wrong membership\""
      ],
      "metadata": {
        "id": "Q3ObMBtEL7ee"
      },
      "execution_count": 41,
      "outputs": []
    },
    {
      "cell_type": "code",
      "source": [
        "betelguise = Membership(\"Betelguise\")"
      ],
      "metadata": {
        "id": "VkG8EUAyd_gt"
      },
      "execution_count": 42,
      "outputs": []
    },
    {
      "cell_type": "code",
      "source": [
        "betelguise.show_benefit()"
      ],
      "metadata": {
        "colab": {
          "base_uri": "https://localhost:8080/"
        },
        "id": "f4tvKcRoeIVj",
        "outputId": "781a6b4e-eb7d-4c61-b60c-0342ace4c0b4"
      },
      "execution_count": 43,
      "outputs": [
        {
          "output_type": "stream",
          "name": "stdout",
          "text": [
            "Membership    Discount    Additional Benefit\n",
            "------------  ----------  ------------------------------------------------------------\n",
            "Platinum      15%         Benefit Gold + Silver + Vacation Voucher + Cashback max. 30%\n",
            "Gold          10%         Benefit Silver + Online Ride Voucher\n",
            "Silver        8%          Food Voucher\n"
          ]
        }
      ]
    },
    {
      "cell_type": "code",
      "source": [
        "betelguise.show_requirement()"
      ],
      "metadata": {
        "colab": {
          "base_uri": "https://localhost:8080/"
        },
        "id": "jc7YjHtDeKzw",
        "outputId": "d2fbefa0-f1e0-462c-a636-145eac944495"
      },
      "execution_count": 44,
      "outputs": [
        {
          "output_type": "stream",
          "name": "stdout",
          "text": [
            "Membership      Monthly Expense (million)    Monthly Income (million)\n",
            "------------  ---------------------------  --------------------------\n",
            "Platinum                                8                          15\n",
            "Gold                                    6                          10\n",
            "Silver                                  5                           7\n"
          ]
        }
      ]
    },
    {
      "cell_type": "code",
      "source": [
        "betelguise.predict_membership(betelguise.username, 6, 7)"
      ],
      "metadata": {
        "colab": {
          "base_uri": "https://localhost:8080/",
          "height": 53
        },
        "id": "eNZk-IWVtwXW",
        "outputId": "f2b5617e-8d7d-4662-e30d-a1e58cd46161"
      },
      "execution_count": 45,
      "outputs": [
        {
          "output_type": "stream",
          "name": "stdout",
          "text": [
            "Distance of user Betelguise is {'Platinum': 8.25, 'Gold': 3.0, 'Silver': 1.0}\n"
          ]
        },
        {
          "output_type": "execute_result",
          "data": {
            "text/plain": [
              "'Silver'"
            ],
            "application/vnd.google.colaboratory.intrinsic+json": {
              "type": "string"
            }
          },
          "metadata": {},
          "execution_count": 45
        }
      ]
    },
    {
      "cell_type": "code",
      "source": [
        "betelguise.data"
      ],
      "metadata": {
        "colab": {
          "base_uri": "https://localhost:8080/"
        },
        "id": "9BZ7OihRuCYd",
        "outputId": "d3d97a25-7c1c-4268-98c3-e7e528e55492"
      },
      "execution_count": 46,
      "outputs": [
        {
          "output_type": "execute_result",
          "data": {
            "text/plain": [
              "{'Alsterra': 'Platinum',\n",
              " 'Aurora': 'Gold',\n",
              " 'Shireen': 'Platinum',\n",
              " 'Betelguise': 'Silver'}"
            ]
          },
          "metadata": {},
          "execution_count": 46
        }
      ]
    },
    {
      "cell_type": "code",
      "source": [
        "betelguise.show_membership(\"Alsterra\")"
      ],
      "metadata": {
        "colab": {
          "base_uri": "https://localhost:8080/",
          "height": 35
        },
        "id": "Ue8cgnONu7Wc",
        "outputId": "b4071055-a569-4170-ee95-5be0fc720c58"
      },
      "execution_count": 37,
      "outputs": [
        {
          "output_type": "execute_result",
          "data": {
            "text/plain": [
              "'User Alsterra has Platinum membership'"
            ],
            "application/vnd.google.colaboratory.intrinsic+json": {
              "type": "string"
            }
          },
          "metadata": {},
          "execution_count": 37
        }
      ]
    },
    {
      "cell_type": "code",
      "source": [
        "price_list = [420000, 350000, 230000]"
      ],
      "metadata": {
        "id": "R5ipIdwNw77g"
      },
      "execution_count": 49,
      "outputs": []
    },
    {
      "cell_type": "code",
      "source": [
        "betelguise.calc_price(betelguise.username, price_list)"
      ],
      "metadata": {
        "colab": {
          "base_uri": "https://localhost:8080/",
          "height": 35
        },
        "id": "NJBZLU7Sy517",
        "outputId": "1087b841-8442-4664-df4e-8c02c2d076d4"
      },
      "execution_count": 50,
      "outputs": [
        {
          "output_type": "execute_result",
          "data": {
            "text/plain": [
              "'The total shopping you have to pay is Rp211600.0'"
            ],
            "application/vnd.google.colaboratory.intrinsic+json": {
              "type": "string"
            }
          },
          "metadata": {},
          "execution_count": 50
        }
      ]
    }
  ]
}
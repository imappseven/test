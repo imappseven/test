{
  "nbformat": 4,
  "nbformat_minor": 0,
  "metadata": {
    "colab": {
      "provenance": [],
      "authorship_tag": "ABX9TyMnI4a3FJrLsFNsvbtFKWPC",
      "include_colab_link": true
    },
    "kernelspec": {
      "name": "python3",
      "display_name": "Python 3"
    },
    "language_info": {
      "name": "python"
    }
  },
  "cells": [
    {
      "cell_type": "markdown",
      "metadata": {
        "id": "view-in-github",
        "colab_type": "text"
      },
      "source": [
        "<a href=\"https://colab.research.google.com/github/imappseven/test/blob/master/Python1.ipynb\" target=\"_parent\"><img src=\"https://colab.research.google.com/assets/colab-badge.svg\" alt=\"Open In Colab\"/></a>"
      ]
    },
    {
      "cell_type": "code",
      "execution_count": null,
      "metadata": {
        "colab": {
          "base_uri": "https://localhost:8080/"
        },
        "id": "P6GLEGTFzX8N",
        "outputId": "f25ae4a6-fdfc-49f4-c620-a4606a84e094"
      },
      "outputs": [
        {
          "output_type": "stream",
          "name": "stdout",
          "text": [
            "False\n"
          ]
        }
      ],
      "source": [
        "num_1 = 12\n",
        "num_2 = 16\n",
        "\n",
        "print(num_1 == num_2)"
      ]
    },
    {
      "cell_type": "code",
      "source": [
        "print(num_1 != num_2)"
      ],
      "metadata": {
        "colab": {
          "base_uri": "https://localhost:8080/"
        },
        "id": "bhcynBqS3DJd",
        "outputId": "beed4c04-edbf-4207-cc34-579f2e4e69ca"
      },
      "execution_count": null,
      "outputs": [
        {
          "output_type": "stream",
          "name": "stdout",
          "text": [
            "True\n"
          ]
        }
      ]
    },
    {
      "cell_type": "code",
      "source": [
        "print(num_1 < num_2)"
      ],
      "metadata": {
        "colab": {
          "base_uri": "https://localhost:8080/"
        },
        "id": "rfNUqHdL3Ho0",
        "outputId": "35fc6478-8da0-4651-f2ac-9cc9e906e9a6"
      },
      "execution_count": null,
      "outputs": [
        {
          "output_type": "stream",
          "name": "stdout",
          "text": [
            "True\n"
          ]
        }
      ]
    },
    {
      "cell_type": "code",
      "source": [
        "var_a = False\n",
        "var_b = 7 > 8\n",
        "print(var_a and var_b)"
      ],
      "metadata": {
        "colab": {
          "base_uri": "https://localhost:8080/"
        },
        "id": "gH7-2msl3Xpp",
        "outputId": "2341e479-f3ce-47e3-b766-4ac5e3b524e5"
      },
      "execution_count": null,
      "outputs": [
        {
          "output_type": "stream",
          "name": "stdout",
          "text": [
            "False\n"
          ]
        }
      ]
    },
    {
      "cell_type": "code",
      "source": [
        "print(var_a or var_b)"
      ],
      "metadata": {
        "colab": {
          "base_uri": "https://localhost:8080/"
        },
        "id": "J7ZwQqAM4SL2",
        "outputId": "77466b2e-a932-429d-9b03-2d7d04529d45"
      },
      "execution_count": null,
      "outputs": [
        {
          "output_type": "stream",
          "name": "stdout",
          "text": [
            "False\n"
          ]
        }
      ]
    },
    {
      "cell_type": "code",
      "source": [
        "var_c = True"
      ],
      "metadata": {
        "id": "BmPe-Oux4V9c"
      },
      "execution_count": null,
      "outputs": []
    },
    {
      "cell_type": "code",
      "source": [
        "print(var_a or var_c)"
      ],
      "metadata": {
        "colab": {
          "base_uri": "https://localhost:8080/"
        },
        "id": "i7Hb42RA4Zxc",
        "outputId": "3f46d906-f4d1-4fba-bfb5-7673adbf325d"
      },
      "execution_count": null,
      "outputs": [
        {
          "output_type": "stream",
          "name": "stdout",
          "text": [
            "True\n"
          ]
        }
      ]
    },
    {
      "cell_type": "code",
      "source": [
        "print(not var_a)"
      ],
      "metadata": {
        "colab": {
          "base_uri": "https://localhost:8080/"
        },
        "id": "OEieOMdn4i03",
        "outputId": "9bb15508-b004-4b51-dc49-6b97a1361ea1"
      },
      "execution_count": null,
      "outputs": [
        {
          "output_type": "stream",
          "name": "stdout",
          "text": [
            "True\n"
          ]
        }
      ]
    },
    {
      "cell_type": "code",
      "source": [
        "coupon_code = \"FT91217T\"\n",
        "\n",
        "coupon_code_db = \"FT91217T\"\n",
        "\n",
        "print(coupon_code == coupon_code_db)"
      ],
      "metadata": {
        "colab": {
          "base_uri": "https://localhost:8080/"
        },
        "id": "ankLuK1i4rh8",
        "outputId": "0335e6a5-23ef-4184-a4f7-333f74c6f381"
      },
      "execution_count": null,
      "outputs": [
        {
          "output_type": "stream",
          "name": "stdout",
          "text": [
            "True\n"
          ]
        }
      ]
    },
    {
      "cell_type": "code",
      "source": [
        "gpa_smt_1 = 3.5\n",
        "gpa_smt_2 = 3.5\n",
        "\n",
        "print(gpa_smt_1 >= 3.5 and gpa_smt_2 >= 3.5)"
      ],
      "metadata": {
        "colab": {
          "base_uri": "https://localhost:8080/"
        },
        "id": "HNt0RJmpAhmK",
        "outputId": "fa56443c-ccd9-4eac-f1bb-f97d37b45a08"
      },
      "execution_count": null,
      "outputs": [
        {
          "output_type": "stream",
          "name": "stdout",
          "text": [
            "True\n"
          ]
        }
      ]
    },
    {
      "cell_type": "code",
      "source": [
        "gpa_smt_1 = 3.2\n",
        "gpa_smt_2 = 2.8"
      ],
      "metadata": {
        "id": "1vZEz4d7ErYC"
      },
      "execution_count": null,
      "outputs": []
    },
    {
      "cell_type": "code",
      "source": [
        "get_prestasi_bs = True\n",
        "\n",
        "print(get_prestasi_bs or (gpa_smt_1 >= 3.5 and gpa_smt_2 >= 3.5))"
      ],
      "metadata": {
        "colab": {
          "base_uri": "https://localhost:8080/"
        },
        "id": "pWaepCWkFXLr",
        "outputId": "f74c3dfe-ef64-4225-8c19-9395e57578e3"
      },
      "execution_count": null,
      "outputs": [
        {
          "output_type": "stream",
          "name": "stdout",
          "text": [
            "True\n"
          ]
        }
      ]
    },
    {
      "cell_type": "code",
      "source": [
        "gpa_smt_1 = 3.0\n",
        "gpa_smt_1 = 3.6\n",
        "get_prestasi_ol = True\n",
        "\n",
        "print(gpa_smt_1 >= 3.5 or ip_gpa_smt_2 >= 3.5 and get_prestasi_ol == True)"
      ],
      "metadata": {
        "colab": {
          "base_uri": "https://localhost:8080/"
        },
        "id": "UzL-aubtGwYP",
        "outputId": "9153f9fc-58d1-4cc1-e9f8-249f5c759214"
      },
      "execution_count": null,
      "outputs": [
        {
          "output_type": "stream",
          "name": "stdout",
          "text": [
            "True\n"
          ]
        }
      ]
    },
    {
      "cell_type": "code",
      "source": [
        "class Shopping:\n",
        "  roti = 3\n",
        "  soda = 5\n",
        "  selai = 2\n",
        "\n",
        "  def jumlah_belanja(self):\n",
        "    print(f'''\n",
        "    Jumlah Belanja:\n",
        "    Roti = {self.roti}\n",
        "    Soda = {self.soda}\n",
        "    Selai = {self.selai}\n",
        "    ''')\n",
        "  \n",
        "\n",
        "belanja = Shopping()\n",
        "belanja.jumlah_belanja()"
      ],
      "metadata": {
        "id": "zECULKAeH6hw",
        "colab": {
          "base_uri": "https://localhost:8080/"
        },
        "outputId": "86046e3f-f58e-4239-bea7-6b2b7f741d12"
      },
      "execution_count": null,
      "outputs": [
        {
          "output_type": "stream",
          "name": "stdout",
          "text": [
            "\n",
            "    Jumlah Belanja:\n",
            "    Roti = 3\n",
            "    Soda = 5\n",
            "    Selai = 2\n",
            "    \n"
          ]
        }
      ]
    },
    {
      "cell_type": "code",
      "source": [
        "class Pekerja:\n",
        "  def __init__(self, nama_depan,nama_belakang):\n",
        "    self.nama_depan = nama_depan\n",
        "    self.nama_belakang = nama_belakang\n",
        "  \n",
        "  def nama_lengkap(self):\n",
        "    print(f\"{self.nama_depan} {self.nama_belakang}\")\n",
        "  \n",
        "  def email(self):\n",
        "    print(f\"{self.nama_depan}.{self.nama_belakang}@company.com\".lower())\n",
        "\n",
        "\n",
        "worker = Pekerja(\"Santoso\", \"Toso\")\n",
        "worker.nama_lengkap()\n",
        "worker.email()"
      ],
      "metadata": {
        "colab": {
          "base_uri": "https://localhost:8080/"
        },
        "id": "agMebnxZXEN1",
        "outputId": "4cdff796-04dc-4ce2-f5d7-f66e604e9878"
      },
      "execution_count": null,
      "outputs": [
        {
          "output_type": "stream",
          "name": "stdout",
          "text": [
            "Santoso Toso\n",
            "santoso.toso@company.com\n"
          ]
        }
      ]
    },
    {
      "cell_type": "code",
      "source": [
        "class BankAccount:\n",
        "  def __init__(self, nomor_rek, nama, saldo):\n",
        "    self.nomor_rek = nomor_rek\n",
        "    self.nama = nama\n",
        "    self.saldo = saldo\n",
        "  \n",
        "  def display(self):\n",
        "    print(f\"Nomor Akun : {self.nomor_rek}\")\n",
        "    print(f\"Nama       : {self.nama}\")\n",
        "    print(f\"Saldo      : Rp{self.saldo}\")\n",
        "  \n",
        "  def setor_tunai(self, uang):\n",
        "    self.saldo = self.saldo + uang\n",
        "    return self.saldo\n",
        "  \n",
        "  def tarik_tunai(self, uang):\n",
        "    self.saldo = self.saldo - uang\n",
        "    return self.saldo\n",
        "\n",
        "\n",
        "cust1 = BankAccount(9483938493, \"Santoso\", 15000000)\n",
        "cust1.display()\n",
        "cust1.setor_tunai(6000000)\n",
        "cust1.tarik_tunai(5000000)"
      ],
      "metadata": {
        "colab": {
          "base_uri": "https://localhost:8080/"
        },
        "id": "lgeqMQLdfKUT",
        "outputId": "355d96de-2ee2-44a3-d777-f0fee904ec5d"
      },
      "execution_count": null,
      "outputs": [
        {
          "output_type": "stream",
          "name": "stdout",
          "text": [
            "Nomor Akun : 9483938493\n",
            "Nama       : Santoso\n",
            "Saldo      : Rp15000000\n"
          ]
        },
        {
          "output_type": "execute_result",
          "data": {
            "text/plain": [
              "16000000"
            ]
          },
          "metadata": {},
          "execution_count": 13
        }
      ]
    },
    {
      "cell_type": "code",
      "source": [
        "class Jets:\n",
        "  def __init__(self, asal, nama):\n",
        "    self.asal = asal\n",
        "    self.nama = nama\n",
        "  \n",
        "\n",
        "class AJS37(Jets):\n",
        "  def __init__(self, asal, nama):\n",
        "    super().__init__(asal, nama)\n",
        "\n",
        "class IDN17(Jets):\n",
        "  def __init__(self, asal, nama):\n",
        "    super().__init__(asal, nama)\n",
        "\n",
        "\n",
        "jet_1 = AJS37(\"Swedia\", \"AJS37\")\n",
        "print(f\"Pesawat berasal dari {jet_1.asal} dengan nama {jet_1.nama}\")\n",
        "\n",
        "jet_2 = IDN17(\"Indonesia\", \"IDN17\")\n",
        "print(f\"Pesawat berasal dari {jet_2.asal} dengan nama {jet_2.nama}\")"
      ],
      "metadata": {
        "colab": {
          "base_uri": "https://localhost:8080/"
        },
        "id": "imDk_bJsiOlG",
        "outputId": "4614bc99-b20b-4e14-c7c4-7ac2da10e206"
      },
      "execution_count": null,
      "outputs": [
        {
          "output_type": "stream",
          "name": "stdout",
          "text": [
            "Pesawat berasal dari Swedia dengan nama AJS37\n",
            "Pesawat berasal dari Indonesia dengan nama IDN17\n"
          ]
        }
      ]
    },
    {
      "cell_type": "code",
      "source": [
        "class Vehicles:\n",
        "  def __init__(self, capacity):\n",
        "    self.capacity = capacity\n",
        "  \n",
        "class Microlet(Vehicles):\n",
        "  def __init__(self, capacity, fare):\n",
        "    super().__init__(capacity)\n",
        "    self.fare = fare\n",
        "\n",
        "  def profit(self):\n",
        "    total = self.fare * self.capacity\n",
        "    return total\n",
        "\n",
        "class Bus(Vehicles):\n",
        "  def __init__(self, capacity, fare):\n",
        "    super().__init__(capacity)\n",
        "    self.fare = fare\n",
        "  \n",
        "  def profit(self):\n",
        "    total = self.capacity * self.fare * 0.9\n",
        "    return int(total)\n",
        "\n",
        "  \n",
        "# microlet = Microlet(10, 3000)\n",
        "# print(f\"Total profit: Rp{microlet.profit()}\")\n",
        "\n",
        "bus = Bus(20, 4000)\n",
        "print(f\"Total profit: Rp{bus.profit()}\")"
      ],
      "metadata": {
        "id": "aqqGPj5CtucP",
        "colab": {
          "base_uri": "https://localhost:8080/"
        },
        "outputId": "5d670c76-18e8-42d8-9b0c-633b4a337866"
      },
      "execution_count": 22,
      "outputs": [
        {
          "output_type": "stream",
          "name": "stdout",
          "text": [
            "Total profit: Rp72000\n"
          ]
        }
      ]
    },
    {
      "cell_type": "code",
      "source": [],
      "metadata": {
        "id": "pm9il8Djzj1L"
      },
      "execution_count": null,
      "outputs": []
    }
  ]
}
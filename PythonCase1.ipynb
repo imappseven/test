{
  "nbformat": 4,
  "nbformat_minor": 0,
  "metadata": {
    "colab": {
      "provenance": [],
      "authorship_tag": "ABX9TyOfhrH1oPuKCjV4ZrYRvmB+",
      "include_colab_link": true
    },
    "kernelspec": {
      "name": "python3",
      "display_name": "Python 3"
    },
    "language_info": {
      "name": "python"
    }
  },
  "cells": [
    {
      "cell_type": "markdown",
      "metadata": {
        "id": "view-in-github",
        "colab_type": "text"
      },
      "source": [
        "<a href=\"https://colab.research.google.com/github/imappseven/test/blob/master/PythonCase1.ipynb\" target=\"_parent\"><img src=\"https://colab.research.google.com/assets/colab-badge.svg\" alt=\"Open In Colab\"/></a>"
      ]
    },
    {
      "cell_type": "code",
      "execution_count": 18,
      "metadata": {
        "id": "iWXPlQxRj5RS"
      },
      "outputs": [],
      "source": [
        "from tabulate import tabulate\n",
        "\n",
        "def check_benefit():\n",
        "  table = [[True, True, True, \"Streaming\"],\n",
        "           [True, True, True, \"Able to Download\"],\n",
        "           [True, True, True, \"SD QUality\"],\n",
        "           [False, False, True, \"UHD Quality\"],\n",
        "           [1, 2, 4, \"Number of Devices\"],\n",
        "           [\"3rd Party Movies\", \"Basic Plan + Sports\", \"Basic + Standard Plan + Fiflix Original\", \"Content\"],\n",
        "           [120_000, 160_000, 200_000, \"Price\"]]\n",
        "  headers = [\"Basic Plan\", \"Standard Plan\", \"Premium Plan\", \"Services\"]\n",
        "  print(\"Fiflix Subscription Plan\")\n",
        "  print(\"\")\n",
        "  print(tabulate(table, headers))\n"
      ]
    },
    {
      "cell_type": "code",
      "source": [
        "check_benefit()"
      ],
      "metadata": {
        "colab": {
          "base_uri": "https://localhost:8080/"
        },
        "id": "Rv0DUvXYocEd",
        "outputId": "33cbe06c-a012-4609-bac5-3543d8190139"
      },
      "execution_count": null,
      "outputs": [
        {
          "output_type": "stream",
          "name": "stdout",
          "text": [
            "Fiflix Subscription Plan\n",
            "\n",
            "Basic Plan        Standard Plan        Premium Plan                             Services\n",
            "----------------  -------------------  ---------------------------------------  -----------------\n",
            "True              True                 True                                     Streaming\n",
            "True              True                 True                                     Able to Download\n",
            "True              True                 True                                     SD QUality\n",
            "False             False                True                                     UHD Quality\n",
            "1                 2                    4                                        Number of Devices\n",
            "3rd Party Movies  Basic Plan + Sports  Basic + Standard Plan + Fiflix Original  Content\n",
            "120000            160000               200000                                   Price\n"
          ]
        }
      ]
    },
    {
      "cell_type": "code",
      "source": [
        "class User:\n",
        "  def __init__(self, username, duration_plan, current_plan):\n",
        "    self.username = username\n",
        "    self.duration_plan = duration_plan\n",
        "    self.current_plan = current_plan"
      ],
      "metadata": {
        "id": "e-XaBDUAoiVL"
      },
      "execution_count": null,
      "outputs": []
    },
    {
      "cell_type": "code",
      "source": [
        "user_1 = User(\"Santoso\", 17, \"Basic Plan\")"
      ],
      "metadata": {
        "id": "HGI80qv8rylk"
      },
      "execution_count": null,
      "outputs": []
    },
    {
      "cell_type": "code",
      "source": [
        "user_1.username"
      ],
      "metadata": {
        "colab": {
          "base_uri": "https://localhost:8080/",
          "height": 35
        },
        "id": "Yd2JKLfBr5N3",
        "outputId": "61fe0370-714f-40ba-f90c-610f5526e3f6"
      },
      "execution_count": null,
      "outputs": [
        {
          "output_type": "execute_result",
          "data": {
            "text/plain": [
              "'Santoso'"
            ],
            "application/vnd.google.colaboratory.intrinsic+json": {
              "type": "string"
            }
          },
          "metadata": {},
          "execution_count": 9
        }
      ]
    },
    {
      "cell_type": "code",
      "source": [
        "class User:\n",
        "  def __init__(self, username, duration_plan, current_plan):\n",
        "    self.username = username\n",
        "    self.duration_plan = duration_plan\n",
        "    self.current_plan = current_plan\n",
        "  \n",
        "  def check_benefit(self):\n",
        "    table = [[True, True, True, \"Streaming\"],\n",
        "            [True, True, True, \"Able to Download\"],\n",
        "            [True, True, True, \"SD QUality\"],\n",
        "            [False, False, True, \"UHD Quality\"],\n",
        "            [1, 2, 4, \"Number of Devices\"],\n",
        "            [\"3rd Party Movies\", \"Basic Plan + Sports\", \"Basic + Standard Plan + Fiflix Original\", \"Content\"],\n",
        "            [120_000, 160_000, 200_000, \"Price\"]]\n",
        "    headers = [\"Basic Plan\", \"Standard Plan\", \"Premium Plan\", \"Services\"]\n",
        "    print(\"Fiflix Subscription Plan\")\n",
        "    print(\"\")\n",
        "    print(tabulate(table, headers))"
      ],
      "metadata": {
        "id": "pCk_Ls6CsE5S"
      },
      "execution_count": null,
      "outputs": []
    },
    {
      "cell_type": "code",
      "source": [
        "user_1 = User(\"Santoso\", 17, \"Basic Plan\")"
      ],
      "metadata": {
        "id": "B6Q2laHCtAMB"
      },
      "execution_count": null,
      "outputs": []
    },
    {
      "cell_type": "code",
      "source": [
        "user_1.check_benefit()"
      ],
      "metadata": {
        "colab": {
          "base_uri": "https://localhost:8080/"
        },
        "id": "m8uSj-OwtJbC",
        "outputId": "40f88b80-753d-4487-d838-90695fae93d2"
      },
      "execution_count": null,
      "outputs": [
        {
          "output_type": "stream",
          "name": "stdout",
          "text": [
            "Fiflix Subscription Plan\n",
            "\n",
            "Basic Plan        Standard Plan        Premium Plan                             Services\n",
            "----------------  -------------------  ---------------------------------------  -----------------\n",
            "True              True                 True                                     Streaming\n",
            "True              True                 True                                     Able to Download\n",
            "True              True                 True                                     SD QUality\n",
            "False             False                True                                     UHD Quality\n",
            "1                 2                    4                                        Number of Devices\n",
            "3rd Party Movies  Basic Plan + Sports  Basic + Standard Plan + Fiflix Original  Content\n",
            "120000            160000               200000                                   Price\n"
          ]
        }
      ]
    },
    {
      "cell_type": "code",
      "source": [
        "data = {\n",
        "    \"Santoso\": [\"Basic Plan\", 12, \"sant547o\"],\n",
        "    \"Agam\": [\"Standard Plan\", 24, \"agam928u\"],\n",
        "    \"Sudar\": [\"Premium Plan\", 3, \"suda398e\"],\n",
        "    \"Tono\": [\"Basic Plan\", 10, \"tono932i\"]\n",
        "}"
      ],
      "metadata": {
        "id": "Wz8AZEHgtLjE"
      },
      "execution_count": 53,
      "outputs": []
    },
    {
      "cell_type": "code",
      "source": [
        "data"
      ],
      "metadata": {
        "colab": {
          "base_uri": "https://localhost:8080/"
        },
        "id": "nS4OR0czuwff",
        "outputId": "1f0cb11d-139e-428d-a57e-820379419f3f"
      },
      "execution_count": null,
      "outputs": [
        {
          "output_type": "execute_result",
          "data": {
            "text/plain": [
              "{'Santoso': ['Basic Plan', 12, 'sant547o'],\n",
              " 'Agam': ['Standard Plan', 24, 'agam928u'],\n",
              " 'Sudar': ['Premium Plan', 3, 'suda398e'],\n",
              " 'Tono': ['Basic Plan', 10, 'tono932i']}"
            ]
          },
          "metadata": {},
          "execution_count": 18
        }
      ]
    },
    {
      "cell_type": "code",
      "source": [
        "for key, value in data.items():\n",
        "  if key == \"Santoso\":\n",
        "    print(value[0])\n",
        "    print(value[1])"
      ],
      "metadata": {
        "colab": {
          "base_uri": "https://localhost:8080/"
        },
        "id": "yookCDgRuxli",
        "outputId": "af5e911a-ced4-4ccb-8b96-cb7694af5cd7"
      },
      "execution_count": null,
      "outputs": [
        {
          "output_type": "stream",
          "name": "stdout",
          "text": [
            "Basic Plan\n",
            "12\n"
          ]
        }
      ]
    },
    {
      "cell_type": "code",
      "source": [
        "class User:\n",
        "  def __init__(self, username, duration_plan, current_plan):\n",
        "    self.username = username\n",
        "    self.duration_plan = duration_plan\n",
        "    self.current_plan = current_plan\n",
        "  \n",
        "  def check_benefit(self):\n",
        "    table = [[True, True, True, \"Streaming\"],\n",
        "            [True, True, True, \"Able to Download\"],\n",
        "            [True, True, True, \"SD QUality\"],\n",
        "            [False, False, True, \"UHD Quality\"],\n",
        "            [1, 2, 4, \"Number of Devices\"],\n",
        "            [\"3rd Party Movies\", \"Basic Plan + Sports\", \"Basic + Standard Plan + Fiflix Original\", \"Content\"],\n",
        "            [120_000, 160_000, 200_000, \"Price\"]]\n",
        "    headers = [\"Basic Plan\", \"Standard Plan\", \"Premium Plan\", \"Services\"]\n",
        "    print(\"Fiflix Subscription Plan\")\n",
        "    print(\"\")\n",
        "    print(tabulate(table, headers))\n",
        "  \n",
        "  def check_plan(self, username):\n",
        "    for key, value in data.items():\n",
        "      if key == self.username:\n",
        "        print(f\"Subscription type: {value[0]}\")\n",
        "        print(f\"Duration: {value[1]} months\")\n",
        "\n",
        "        try:\n",
        "          if value[0] == \"Basic Plan\":\n",
        "            benefit = [[\"Bisa streaming\", True],\n",
        "                       [\"Bisa download\", True],\n",
        "                       [\"Kualitas SD\", True],\n",
        "                       [\"Kualitas HD\", False],\n",
        "                       [\"Kualitas UHD\", False],\n",
        "                       [\"Number of Devices\", 1],\n",
        "                       [\"Content\", \"3rd party movies only\"],\n",
        "                       [\"Price\", 120_000]]\n",
        "            headers = [\"Services\", \"\"]\n",
        "            print(f\"{value[0]} Benefit List\")\n",
        "            print(\"\")\n",
        "            print(tabulate(benefit, headers))\n",
        "          \n",
        "          elif value[0] == \"Standard Plan\":\n",
        "            benefit = [[\"Bisa streaming\", True],\n",
        "                       [\"Bisa download\", True],\n",
        "                       [\"Kualitas SD\", True],\n",
        "                       [\"Kualitas HD\", True],\n",
        "                       [\"Kualitas UHD\", False],\n",
        "                       [\"Number of Devices\", 2],\n",
        "                       [\"Content\", \"Basic Plan + Sports\"],\n",
        "                       [\"Price\", 160_000]]\n",
        "            headers = [\"Services\", \"\"]\n",
        "            print(f\"{value[0]} Benefit List\")\n",
        "            print(\"\")\n",
        "            print(tabulate(benefit, headers))\n",
        "          \n",
        "          elif value[0] == \"Premium Plan\":\n",
        "            benefit = [[\"Bisa streaming\", True],\n",
        "                       [\"Bisa download\", True],\n",
        "                       [\"Kualitas SD\", True],\n",
        "                       [\"Kualitas HD\", True],\n",
        "                       [\"Kualitas UHD\", True],\n",
        "                       [\"Number of Devices\", 4],\n",
        "                       [\"Content\", \"Basic + Standard Plan + Fiflix Original\"],\n",
        "                       [\"Price\", 200_000]]\n",
        "            headers = [\"Services\", \"\"]\n",
        "            print(f\"{value[0]} Benefit List\")\n",
        "            print(\"\")\n",
        "            print(tabulate(benefit, headers))\n",
        "          \n",
        "          else:\n",
        "            raise Exception(\"The subscription plan is not available.\")\n",
        "        \n",
        "        except:\n",
        "          raise Exception(\"The page you're searching for in down\")\n",
        "  \n",
        "  def upgrade_plan(self, current_plan, new_plan):\n",
        "    if new_plan != self.current_plan:\n",
        "      if self.duration_plan > 12:\n",
        "        if new_plan == \"Basic Plan\":\n",
        "          total = 120_000 - (120_000 * 0.05)\n",
        "          return total\n",
        "        if new_plan == \"Standard Plan\":\n",
        "          total = 160_000 - (160_000 * 0.05)\n",
        "          return total\n",
        "        if new_plan == \"Premium Plan\":\n",
        "          total = 200_000 - (200_000 * 0.05)\n",
        "          return total\n",
        "        else:\n",
        "          raise Exception(\"Plan doesn't exist\")\n",
        "\n",
        "      else:\n",
        "        if new_plan == \"Basic Plan\":\n",
        "          total = 120_000\n",
        "          return total\n",
        "        if new_plan == \"Standard Plan\":\n",
        "          total = 160_000\n",
        "          return total\n",
        "        if new_plan == \"Premium Plan\":\n",
        "          total = 200_000\n",
        "          return total\n",
        "        else:\n",
        "          raise Exception(\"Plan doesn't exist\")\n",
        "    \n",
        "    else:\n",
        "      raise Exception(\"You chose the same plan\")"
      ],
      "metadata": {
        "id": "JQkrv-f2u2li"
      },
      "execution_count": 39,
      "outputs": []
    },
    {
      "cell_type": "code",
      "source": [
        "user_1 = User(\"Agam\", 24, \"Standard Plan\")"
      ],
      "metadata": {
        "id": "izhl2-KRvllN"
      },
      "execution_count": 40,
      "outputs": []
    },
    {
      "cell_type": "code",
      "source": [
        "user_1.check_plan(\"Agam\")"
      ],
      "metadata": {
        "colab": {
          "base_uri": "https://localhost:8080/"
        },
        "id": "5z1vWUqJv4Y8",
        "outputId": "826fcf11-94c1-4484-9007-41f5b6d515dd"
      },
      "execution_count": 41,
      "outputs": [
        {
          "output_type": "stream",
          "name": "stdout",
          "text": [
            "Subscription type: Standard Plan\n",
            "Duration: 24 months\n",
            "Standard Plan Benefit List\n",
            "\n",
            "Services\n",
            "-----------------  -------------------\n",
            "Bisa streaming     True\n",
            "Bisa download      True\n",
            "Kualitas SD        True\n",
            "Kualitas HD        True\n",
            "Kualitas UHD       False\n",
            "Number of Devices  2\n",
            "Content            Basic Plan + Sports\n",
            "Price              160000\n"
          ]
        }
      ]
    },
    {
      "cell_type": "code",
      "source": [
        "user_2 = User(\"Sudar\", 3, \"Premium Plan\")"
      ],
      "metadata": {
        "id": "Xc_V-QLbwNC8"
      },
      "execution_count": 42,
      "outputs": []
    },
    {
      "cell_type": "code",
      "source": [
        "user_2.check_plan(user_2.username)"
      ],
      "metadata": {
        "colab": {
          "base_uri": "https://localhost:8080/"
        },
        "id": "4PdUhD7UvzoM",
        "outputId": "dcfa68dc-6fdc-42b9-c21a-6ce302b9548d"
      },
      "execution_count": 43,
      "outputs": [
        {
          "output_type": "stream",
          "name": "stdout",
          "text": [
            "Subscription type: Premium Plan\n",
            "Duration: 3 months\n",
            "Premium Plan Benefit List\n",
            "\n",
            "Services\n",
            "-----------------  ---------------------------------------\n",
            "Bisa streaming     True\n",
            "Bisa download      True\n",
            "Kualitas SD        True\n",
            "Kualitas HD        True\n",
            "Kualitas UHD       True\n",
            "Number of Devices  4\n",
            "Content            Basic + Standard Plan + Fiflix Original\n",
            "Price              200000\n"
          ]
        }
      ]
    },
    {
      "cell_type": "code",
      "source": [
        "user_1.upgrade_plan(user_1.current_plan, \"Premium Plan\")"
      ],
      "metadata": {
        "colab": {
          "base_uri": "https://localhost:8080/"
        },
        "id": "rIF1zm8Lv2VB",
        "outputId": "ddee9af0-afb2-4dad-c641-4a9dade7ec88"
      },
      "execution_count": 45,
      "outputs": [
        {
          "output_type": "execute_result",
          "data": {
            "text/plain": [
              "190000.0"
            ]
          },
          "metadata": {},
          "execution_count": 45
        }
      ]
    },
    {
      "cell_type": "code",
      "source": [
        "data = {\n",
        "    \"Santoso\": [\"Basic Plan\", 12, \"sant547o\"],\n",
        "    \"Agam\": [\"Standard Plan\", 24, \"agam928u\"],\n",
        "    \"Sudar\": [\"Premium Plan\", 3, \"suda398e\"],\n",
        "    \"Tono\": [\"Basic Plan\", 10, \"tono932i\"]\n",
        "}"
      ],
      "metadata": {
        "id": "efwUGY038809"
      },
      "execution_count": 54,
      "outputs": []
    },
    {
      "cell_type": "code",
      "source": [
        "class NewUser:\n",
        "\n",
        "  new_data = []\n",
        "\n",
        "  def __init__(self, username):\n",
        "    self.username = username\n",
        "  \n",
        "  def check_benefit(self):\n",
        "    table = [[True, True, True, \"Streaming\"],\n",
        "            [True, True, True, \"Able to Download\"],\n",
        "            [True, True, True, \"SD QUality\"],\n",
        "            [False, False, True, \"UHD Quality\"],\n",
        "            [1, 2, 4, \"Number of Devices\"],\n",
        "            [\"3rd Party Movies\", \"Basic Plan + Sports\", \"Basic + Standard Plan + Fiflix Original\", \"Content\"],\n",
        "            [120_000, 160_000, 200_000, \"Price\"]]\n",
        "    headers = [\"Basic Plan\", \"Standard Plan\", \"Premium Plan\", \"Services\"]\n",
        "    print(\"Fiflix Subscription Plan\")\n",
        "    print(\"\")\n",
        "    print(tabulate(table, headers))\n",
        "\n",
        "  def convert_data_to_list(self, data):\n",
        "    for data in data.values():\n",
        "      for val in data:\n",
        "        self.new_data.append(val)\n",
        "      \n",
        "    return self.new_data\n",
        "    \n",
        "  def pick_plan(self, new_plan, referral_code):\n",
        "    if referral_code in self.new_data:\n",
        "      if new_plan == \"Basic Plan\":\n",
        "        total = 120_000 - (120_000 * 0.04)\n",
        "        return total\n",
        "      if new_plan == \"Standard Plan\":\n",
        "        total = 160_000 - (160_000 * 0.04)\n",
        "        return total\n",
        "      if new_plan == \"Premium Plan\":\n",
        "        total = 200_000 - (200_000 * 0.04)\n",
        "        return total\n",
        "      else:\n",
        "        raise Exception(\"Plan doesn't exist\")\n",
        "      \n",
        "    else:\n",
        "      raise Exception(\"Referral code doesn't exist\")"
      ],
      "metadata": {
        "id": "Spc5c7cb2ay0"
      },
      "execution_count": 60,
      "outputs": []
    },
    {
      "cell_type": "code",
      "source": [
        "shanin = NewUser(\"Shanin\")"
      ],
      "metadata": {
        "id": "Mm36c9KL7_78"
      },
      "execution_count": 61,
      "outputs": []
    },
    {
      "cell_type": "code",
      "source": [
        "shanin.convert_data_to_list(data)"
      ],
      "metadata": {
        "colab": {
          "base_uri": "https://localhost:8080/"
        },
        "id": "TD78aPRg9Kmt",
        "outputId": "53361d33-ada7-4efb-fb42-a255d06185f6"
      },
      "execution_count": 62,
      "outputs": [
        {
          "output_type": "execute_result",
          "data": {
            "text/plain": [
              "['Basic Plan',\n",
              " 12,\n",
              " 'sant547o',\n",
              " 'Standard Plan',\n",
              " 24,\n",
              " 'agam928u',\n",
              " 'Premium Plan',\n",
              " 3,\n",
              " 'suda398e',\n",
              " 'Basic Plan',\n",
              " 10,\n",
              " 'tono932i']"
            ]
          },
          "metadata": {},
          "execution_count": 62
        }
      ]
    },
    {
      "cell_type": "code",
      "source": [
        "shanin.pick_plan(\"Basic Plan\", \"sdfdksdns\")"
      ],
      "metadata": {
        "colab": {
          "base_uri": "https://localhost:8080/",
          "height": 252
        },
        "id": "E_Mnkur18R_8",
        "outputId": "f4ce9176-b7cd-4b66-c055-d776ce554f40"
      },
      "execution_count": 63,
      "outputs": [
        {
          "output_type": "error",
          "ename": "Exception",
          "evalue": "ignored",
          "traceback": [
            "\u001b[0;31m---------------------------------------------------------------------------\u001b[0m",
            "\u001b[0;31mException\u001b[0m                                 Traceback (most recent call last)",
            "\u001b[0;32m<ipython-input-63-3d7c9ab35243>\u001b[0m in \u001b[0;36m<module>\u001b[0;34m\u001b[0m\n\u001b[0;32m----> 1\u001b[0;31m \u001b[0mshanin\u001b[0m\u001b[0;34m.\u001b[0m\u001b[0mpick_plan\u001b[0m\u001b[0;34m(\u001b[0m\u001b[0;34m\"Basic Plan\"\u001b[0m\u001b[0;34m,\u001b[0m \u001b[0;34m\"sdfdksdns\"\u001b[0m\u001b[0;34m)\u001b[0m\u001b[0;34m\u001b[0m\u001b[0;34m\u001b[0m\u001b[0m\n\u001b[0m",
            "\u001b[0;32m<ipython-input-60-6fe146a73bc6>\u001b[0m in \u001b[0;36mpick_plan\u001b[0;34m(self, new_plan, referral_code)\u001b[0m\n\u001b[1;32m     41\u001b[0m \u001b[0;34m\u001b[0m\u001b[0m\n\u001b[1;32m     42\u001b[0m     \u001b[0;32melse\u001b[0m\u001b[0;34m:\u001b[0m\u001b[0;34m\u001b[0m\u001b[0;34m\u001b[0m\u001b[0m\n\u001b[0;32m---> 43\u001b[0;31m       \u001b[0;32mraise\u001b[0m \u001b[0mException\u001b[0m\u001b[0;34m(\u001b[0m\u001b[0;34m\"Referral code doesn't exist\"\u001b[0m\u001b[0;34m)\u001b[0m\u001b[0;34m\u001b[0m\u001b[0;34m\u001b[0m\u001b[0m\n\u001b[0m",
            "\u001b[0;31mException\u001b[0m: Referral code doesn't exist"
          ]
        }
      ]
    },
    {
      "cell_type": "code",
      "source": [
        "shanin.pick_plan(\"Standard Plan\", \"suda398e\")"
      ],
      "metadata": {
        "colab": {
          "base_uri": "https://localhost:8080/"
        },
        "id": "ArvX0VVA8XH2",
        "outputId": "33c51778-0f92-45c2-96bf-ec7ff462db48"
      },
      "execution_count": 64,
      "outputs": [
        {
          "output_type": "execute_result",
          "data": {
            "text/plain": [
              "153600.0"
            ]
          },
          "metadata": {},
          "execution_count": 64
        }
      ]
    },
    {
      "cell_type": "code",
      "source": [],
      "metadata": {
        "id": "lLRpQSH780Oh"
      },
      "execution_count": null,
      "outputs": []
    }
  ]
}
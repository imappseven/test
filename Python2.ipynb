{
  "nbformat": 4,
  "nbformat_minor": 0,
  "metadata": {
    "colab": {
      "provenance": [],
      "authorship_tag": "ABX9TyM2K1VwO3xou9DcZBzKY58x",
      "include_colab_link": true
    },
    "kernelspec": {
      "name": "python3",
      "display_name": "Python 3"
    },
    "language_info": {
      "name": "python"
    }
  },
  "cells": [
    {
      "cell_type": "markdown",
      "metadata": {
        "id": "view-in-github",
        "colab_type": "text"
      },
      "source": [
        "<a href=\"https://colab.research.google.com/github/imappseven/test/blob/master/Python2.ipynb\" target=\"_parent\"><img src=\"https://colab.research.google.com/assets/colab-badge.svg\" alt=\"Open In Colab\"/></a>"
      ]
    },
    {
      "cell_type": "code",
      "execution_count": 7,
      "metadata": {
        "id": "yXFDMjRN5ymA"
      },
      "outputs": [],
      "source": [
        "def count_tax():\n",
        "  tax = 0.05\n",
        "  try:\n",
        "    while True:\n",
        "      income = int(input(\"Enter your salary: \"))\n",
        "      if income > 0:\n",
        "        tax_burden = income * tax\n",
        "        net = income - tax_burden\n",
        "        print(f\"The amount of tax you have to pay for is {tax_burden}, so you will receive income Rp{net}\")\n",
        "        break\n",
        "      \n",
        "      else:\n",
        "        raise Exception(\"Your salary must be > 0\")\n",
        "  \n",
        "  except ValueError:\n",
        "    print(\"You enter the wrong amount of salary\")\n",
        "  \n",
        "  except NameError:\n",
        "    print(\"Variables are not matched\")"
      ]
    },
    {
      "cell_type": "code",
      "source": [
        "count_tax()"
      ],
      "metadata": {
        "colab": {
          "base_uri": "https://localhost:8080/"
        },
        "id": "9ZXzXpRxMSac",
        "outputId": "a789038a-8ace-4b56-89e3-ae7ca84f768a"
      },
      "execution_count": 5,
      "outputs": [
        {
          "output_type": "stream",
          "name": "stdout",
          "text": [
            "Enter your salary: 9000\n",
            "The amount of tax you have to pay for is 450.0, so you will receive income Rp8550.0\n"
          ]
        }
      ]
    },
    {
      "cell_type": "code",
      "source": [
        "count_tax()"
      ],
      "metadata": {
        "colab": {
          "base_uri": "https://localhost:8080/"
        },
        "id": "mIdP8tdoMacD",
        "outputId": "fe1c7c95-d1f6-4f93-fd7c-793eb01bd57d"
      },
      "execution_count": 6,
      "outputs": [
        {
          "output_type": "stream",
          "name": "stdout",
          "text": [
            "Enter your salary: i dunno\n",
            "You enter the wrong amount of salary\n"
          ]
        }
      ]
    },
    {
      "cell_type": "code",
      "source": [
        "count_tax()"
      ],
      "metadata": {
        "colab": {
          "base_uri": "https://localhost:8080/",
          "height": 304
        },
        "id": "hd2Ltye7MeuY",
        "outputId": "3daa581f-1bcc-45d0-ef11-301589a2172c"
      },
      "execution_count": 8,
      "outputs": [
        {
          "name": "stdout",
          "output_type": "stream",
          "text": [
            "Enter your salary: -2\n"
          ]
        },
        {
          "output_type": "error",
          "ename": "Exception",
          "evalue": "ignored",
          "traceback": [
            "\u001b[0;31m---------------------------------------------------------------------------\u001b[0m",
            "\u001b[0;31mException\u001b[0m                                 Traceback (most recent call last)",
            "\u001b[0;32m<ipython-input-8-37a96d1e534f>\u001b[0m in \u001b[0;36m<module>\u001b[0;34m\u001b[0m\n\u001b[0;32m----> 1\u001b[0;31m \u001b[0mcount_tax\u001b[0m\u001b[0;34m(\u001b[0m\u001b[0;34m)\u001b[0m\u001b[0;34m\u001b[0m\u001b[0;34m\u001b[0m\u001b[0m\n\u001b[0m",
            "\u001b[0;32m<ipython-input-7-f6e249441fd1>\u001b[0m in \u001b[0;36mcount_tax\u001b[0;34m()\u001b[0m\n\u001b[1;32m     11\u001b[0m \u001b[0;34m\u001b[0m\u001b[0m\n\u001b[1;32m     12\u001b[0m       \u001b[0;32melse\u001b[0m\u001b[0;34m:\u001b[0m\u001b[0;34m\u001b[0m\u001b[0;34m\u001b[0m\u001b[0m\n\u001b[0;32m---> 13\u001b[0;31m         \u001b[0;32mraise\u001b[0m \u001b[0mException\u001b[0m\u001b[0;34m(\u001b[0m\u001b[0;34m\"Your salary must be > 0\"\u001b[0m\u001b[0;34m)\u001b[0m\u001b[0;34m\u001b[0m\u001b[0;34m\u001b[0m\u001b[0m\n\u001b[0m\u001b[1;32m     14\u001b[0m \u001b[0;34m\u001b[0m\u001b[0m\n\u001b[1;32m     15\u001b[0m   \u001b[0;32mexcept\u001b[0m \u001b[0mValueError\u001b[0m\u001b[0;34m:\u001b[0m\u001b[0;34m\u001b[0m\u001b[0;34m\u001b[0m\u001b[0m\n",
            "\u001b[0;31mException\u001b[0m: Your salary must be > 0"
          ]
        }
      ]
    },
    {
      "cell_type": "code",
      "source": [],
      "metadata": {
        "id": "Wtur4Y8aNdG4"
      },
      "execution_count": null,
      "outputs": []
    }
  ]
}